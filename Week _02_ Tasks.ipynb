{
 "cells": [
  {
   "cell_type": "markdown",
   "id": "1ec61acf-d40c-4979-943d-ab266c5a5588",
   "metadata": {},
   "source": [
    "# Week 2 Tasks"
   ]
  },
  {
   "cell_type": "markdown",
   "id": "74f193a7-a374-403c-8078-c9242d32752a",
   "metadata": {},
   "source": [
    "### Install MicroPython Kernel \n",
    "Install the Juptyer Notebook on your computer, and make sure you have the microPython kernel installed. You can find the instructions on installing the microphone kernel. https://www.instructables.com/Micropython-on-ESP-Using-Jupyter/"
   ]
  },
  {
   "cell_type": "markdown",
   "id": "d15fc572-d946-4637-8a29-46773de516fd",
   "metadata": {},
   "source": [
    "### Configure your serial connection to your microcontroller. Use the following commands to establish a serial connection.\n",
    "#### For Windows\n",
    " %serialconnect to --port=COM3 --baud=115200\n",
    "#### For macOS\n",
    " %serialconnect to --port=/dev/tty.SLAB_USBtoUART --baud=115200"
   ]
  },
  {
   "cell_type": "code",
   "execution_count": null,
   "id": "94ee8c1c-5a4f-4e73-bc16-213f0ed2a455",
   "metadata": {},
   "outputs": [],
   "source": []
  },
  {
   "cell_type": "markdown",
   "id": "64320e2c-61ca-4263-9055-7faed9b3f8d9",
   "metadata": {},
   "source": [
    "### Task 1"
   ]
  },
  {
   "cell_type": "markdown",
   "id": "300159d7-99f3-40e1-94c7-94f70a171819",
   "metadata": {},
   "source": [
    "Turn on the internal LED of Raspberry Pi Pico or ESP32.\n",
    "GPIO - 1"
   ]
  },
  {
   "cell_type": "code",
   "execution_count": null,
   "id": "2c132f1b-a949-4a9a-b87f-334d9a8c6ed8",
   "metadata": {},
   "outputs": [],
   "source": []
  },
  {
   "cell_type": "markdown",
   "id": "e0db46b9-4c6c-4c71-9daf-197f08324f19",
   "metadata": {},
   "source": [
    "### Task 2\n",
    "Make the internal LED blink at half second intervals"
   ]
  },
  {
   "cell_type": "code",
   "execution_count": null,
   "id": "6c99508c-8ad2-4855-9e3f-4c024a571aec",
   "metadata": {},
   "outputs": [],
   "source": []
  },
  {
   "cell_type": "markdown",
   "id": "f15e9d9c-e345-480b-a69f-3b43a2daea09",
   "metadata": {},
   "source": [
    "### Task 3: Turning LED Lights On\n",
    "Use the following hardware and turn on the LED lights\n",
    "#### Hardware Requirements:\n",
    "\n",
    "=> Breadboard\n",
    "\n",
    "=> Led light\n",
    "\n",
    "=> Microcontroller\n",
    "\n",
    "=> Jumper Wire"
   ]
  },
  {
   "cell_type": "code",
   "execution_count": null,
   "id": "8d64dbcd-b499-479c-b822-c6faedda282f",
   "metadata": {},
   "outputs": [],
   "source": []
  },
  {
   "cell_type": "markdown",
   "id": "15f3b91b-31a6-4a3c-b8d5-cf2ba5250601",
   "metadata": {},
   "source": [
    "### Task 3: Blinking LED Lights \n",
    "Use the following hardware and turn blink the LED lights\n",
    "#### Hardware Requirements:\n",
    "\n",
    "=> Breadboard\n",
    "\n",
    "=> Led light\n",
    "\n",
    "=> Microcontroller\n",
    "\n",
    "=> Jumper Wire"
   ]
  },
  {
   "cell_type": "code",
   "execution_count": null,
   "id": "8717c85d-d04f-4884-919a-81db23057963",
   "metadata": {},
   "outputs": [],
   "source": []
  },
  {
   "cell_type": "markdown",
   "id": "2494a2d8-c140-42b5-bc13-6d40c7bb63b0",
   "metadata": {},
   "source": [
    "### Task 4: Turining LED Lights ON When the button is Pressed\n",
    "Use the following hardware and turn blink the LED lights\n",
    "#### Hardware Requirements:\n",
    "\n",
    "=> Breadboard\n",
    "\n",
    "=> Led light\n",
    "\n",
    "=> Microcontroller\n",
    "\n",
    "=> Button\n",
    "\n",
    "=> Jumper Wire"
   ]
  },
  {
   "cell_type": "code",
   "execution_count": null,
   "id": "d413e93a-e6b4-4d38-a3d1-2ee31221bbcf",
   "metadata": {},
   "outputs": [],
   "source": []
  },
  {
   "cell_type": "markdown",
   "id": "cce3c3c4-3406-4707-8909-756c0941b728",
   "metadata": {},
   "source": [
    "### Task 5: Controlling LED with Two Buttons\n",
    "Use the following hardware. To turn on and off the LED lights when the button is pressed.\n",
    "#### Hardware Requirements:\n",
    "\n",
    "=> Breadboard\n",
    "\n",
    "=> Led light\n",
    "\n",
    "=> Microcontroller\n",
    "\n",
    "=> Button X 2\n",
    "\n",
    "=> Jumper Wire"
   ]
  },
  {
   "cell_type": "code",
   "execution_count": null,
   "id": "f0e75954-a039-4dbd-9265-f831ed0a656a",
   "metadata": {},
   "outputs": [],
   "source": []
  },
  {
   "cell_type": "markdown",
   "id": "270ddabf-f251-4a95-9097-3578cd1f6abe",
   "metadata": {},
   "source": [
    "### Task 6: Toggle LED with a Button \n",
    "Use the following hardware. To turn on and off the LED lights when the button is pressed.\n",
    "#### Hardware Requirements:\n",
    "\n",
    "=> Breadboard\n",
    "\n",
    "=> Led light\n",
    "\n",
    "=> Microcontroller\n",
    "\n",
    "=> Button \n",
    "\n",
    "=> Jumper Wire"
   ]
  }
 ],
 "metadata": {
  "kernelspec": {
   "display_name": "MicroPython - USB",
   "language": "micropython",
   "name": "micropython"
  },
  "language_info": {
   "codemirror_mode": "python",
   "file_extension": ".py",
   "mimetype": "text/python",
   "name": "micropython"
  }
 },
 "nbformat": 4,
 "nbformat_minor": 5
}
