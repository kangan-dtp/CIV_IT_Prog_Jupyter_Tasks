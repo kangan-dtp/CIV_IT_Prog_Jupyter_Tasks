{
 "cells": [
  {
   "cell_type": "markdown",
   "id": "1ec61acf-d40c-4979-943d-ab266c5a5588",
   "metadata": {},
   "source": [
    "# Week 2 Tasks"
   ]
  },
  {
   "cell_type": "markdown",
   "id": "74f193a7-a374-403c-8078-c9242d32752a",
   "metadata": {},
   "source": [
    "### Install MicroPython Kernel \n",
    "Install the Juptyer Notebook on your computer, and make sure you have the microPython kernel installed. You can find the instructions on installing the microphone kernel. https://www.instructables.com/Micropython-on-ESP-Using-Jupyter/"
   ]
  },
  {
   "cell_type": "markdown",
   "id": "d15fc572-d946-4637-8a29-46773de516fd",
   "metadata": {},
   "source": [
    "### Configure your serial connection to your microcontroller. Use the following commands to establish a serial connection.\n",
    "#### For Windows\n",
    " %serialconnect to --port=COM3 --baud=115200\n",
    "#### For macOS\n",
    " %serialconnect to --port=/dev/tty.SLAB_USBtoUART --baud=115200"
   ]
  },
  {
   "cell_type": "code",
   "execution_count": 25,
   "id": "94ee8c1c-5a4f-4e73-bc16-213f0ed2a455",
   "metadata": {},
   "outputs": [
    {
     "name": "stdout",
     "output_type": "stream",
     "text": [
      "\u001b[34mConnecting to --port=COM7 --baud=115200 \u001b[0m\n",
      "\u001b[34mReady.\n",
      "\u001b[0m"
     ]
    }
   ],
   "source": [
    "%serialconnect to --port=COM7 --baud=115200"
   ]
  },
  {
   "cell_type": "markdown",
   "id": "64320e2c-61ca-4263-9055-7faed9b3f8d9",
   "metadata": {},
   "source": [
    "### Task 1"
   ]
  },
  {
   "cell_type": "markdown",
   "id": "300159d7-99f3-40e1-94c7-94f70a171819",
   "metadata": {},
   "source": [
    "Turn on the internal LED of Raspberry Pi Pico or ESP32.\n",
    "GPIO - 1"
   ]
  },
  {
   "cell_type": "code",
   "execution_count": 16,
   "id": "2c132f1b-a949-4a9a-b87f-334d9a8c6ed8",
   "metadata": {},
   "outputs": [],
   "source": [
    "import machine\n",
    "import time\n",
    "\n",
    "led = machine.Pin('LED', machine.Pin.OUT)\n",
    "led.value(1)"
   ]
  },
  {
   "cell_type": "markdown",
   "id": "e0db46b9-4c6c-4c71-9daf-197f08324f19",
   "metadata": {},
   "source": [
    "### Task 2\n",
    "Make the internal LED blink at half second intervals"
   ]
  },
  {
   "cell_type": "code",
   "execution_count": 17,
   "id": "6c99508c-8ad2-4855-9e3f-4c024a571aec",
   "metadata": {},
   "outputs": [
    {
     "name": "stdout",
     "output_type": "stream",
     "text": [
      "\u001b[34m\n",
      "\n",
      "*** Sending Ctrl-C\n",
      "\n",
      "\u001b[0m"
     ]
    },
    {
     "name": "stderr",
     "output_type": "stream",
     "text": [
      "Traceback (most recent call last):\n",
      "  File \"<stdin>\", line 8, in <module>\n",
      "KeyboardInterrupt: \n"
     ]
    }
   ],
   "source": [
    "import machine\n",
    "import time\n",
    "\n",
    "led = machine.Pin('LED', machine.Pin.OUT)\n",
    "\n",
    "while True:\n",
    "    led.toggle()\n",
    "    time.sleep(1)"
   ]
  },
  {
   "cell_type": "markdown",
   "id": "f15e9d9c-e345-480b-a69f-3b43a2daea09",
   "metadata": {},
   "source": [
    "### Task 3: Turning LED Lights On\n",
    "Use the following hardware and turn on the LED lights\n",
    "#### Hardware Requirements:\n",
    "\n",
    "=> Breadboard\n",
    "\n",
    "=> Led light\n",
    "\n",
    "=> Microcontroller\n",
    "\n",
    "=> Jumper Wire"
   ]
  },
  {
   "cell_type": "code",
   "execution_count": 18,
   "id": "8d64dbcd-b499-479c-b822-c6faedda282f",
   "metadata": {},
   "outputs": [],
   "source": [
    "import machine\n",
    "import time\n",
    "\n",
    "led = machine.Pin(1, machine.Pin.OUT)\n"
   ]
  },
  {
   "cell_type": "markdown",
   "id": "15f3b91b-31a6-4a3c-b8d5-cf2ba5250601",
   "metadata": {},
   "source": [
    "### Task 3: Blinking LED Lights \n",
    "Use the following hardware and turn blink the LED lights\n",
    "#### Hardware Requirements:\n",
    "\n",
    "=> Breadboard\n",
    "\n",
    "=> Led light\n",
    "\n",
    "=> Microcontroller\n",
    "\n",
    "=> Jumper Wire"
   ]
  },
  {
   "cell_type": "code",
   "execution_count": 27,
   "id": "8717c85d-d04f-4884-919a-81db23057963",
   "metadata": {},
   "outputs": [
    {
     "name": "stdout",
     "output_type": "stream",
     "text": [
      "\u001b[34m\n",
      "\n",
      "*** Sending Ctrl-C\n",
      "\n",
      "\u001b[0m"
     ]
    },
    {
     "name": "stderr",
     "output_type": "stream",
     "text": [
      "Traceback (most recent call last):\n",
      "  File \"<stdin>\", line 8, in <module>\n",
      "KeyboardInterrupt: \n"
     ]
    }
   ],
   "source": [
    "import machine\n",
    "import time\n",
    "\n",
    "led = machine.Pin(1, machine.Pin.OUT)\n",
    "\n",
    "while True:\n",
    "    led.toggle()\n",
    "    time.sleep(0.2)"
   ]
  },
  {
   "cell_type": "markdown",
   "id": "2494a2d8-c140-42b5-bc13-6d40c7bb63b0",
   "metadata": {},
   "source": [
    "### Task 4: Turining LED Lights ON When the button is Pressed\n",
    "Use the following hardware and turn blink the LED lights\n",
    "#### Hardware Requirements:\n",
    "\n",
    "=> Breadboard\n",
    "\n",
    "=> Led light\n",
    "\n",
    "=> Microcontroller\n",
    "\n",
    "=> Button\n",
    "\n",
    "=> Jumper Wire"
   ]
  },
  {
   "cell_type": "code",
   "execution_count": 39,
   "id": "d413e93a-e6b4-4d38-a3d1-2ee31221bbcf",
   "metadata": {},
   "outputs": [
    {
     "name": "stdout",
     "output_type": "stream",
     "text": [
      "..\u001b[34m\n",
      "\n",
      "*** Sending Ctrl-C\n",
      "\n",
      "\u001b[0m"
     ]
    },
    {
     "name": "stderr",
     "output_type": "stream",
     "text": [
      "Traceback (most recent call last):\n",
      "  File \"<stdin>\", line 8, in <module>\n",
      "KeyboardInterrupt: \n"
     ]
    }
   ],
   "source": [
    "import machine\n",
    "import time\n",
    "\n",
    "led = machine.Pin(1, machine.Pin.OUT)\n",
    "button = machine.Pin(0, machine.Pin.IN, machine.Pin.PULL_UP)\n",
    "\n",
    "while True:\n",
    "    if button.value() == 0:\n",
    "        led.on()\n",
    "    else:\n",
    "        led.off()"
   ]
  },
  {
   "cell_type": "markdown",
   "id": "cce3c3c4-3406-4707-8909-756c0941b728",
   "metadata": {},
   "source": [
    "### Task 5: Controlling LED with Two Buttons\n",
    "Use the following hardware. To turn on and off the LED lights when the button is pressed.\n",
    "#### Hardware Requirements:\n",
    "\n",
    "=> Breadboard\n",
    "\n",
    "=> Led light\n",
    "\n",
    "=> Microcontroller\n",
    "\n",
    "=> Button X 2\n",
    "\n",
    "=> Jumper Wire"
   ]
  },
  {
   "cell_type": "code",
   "execution_count": 46,
   "id": "f0e75954-a039-4dbd-9265-f831ed0a656a",
   "metadata": {},
   "outputs": [
    {
     "name": "stdout",
     "output_type": "stream",
     "text": [
      "...........................................................................................\u001b[34m\n",
      "\n",
      "*** Sending Ctrl-C\n",
      "\n",
      "\u001b[0m"
     ]
    },
    {
     "name": "stderr",
     "output_type": "stream",
     "text": [
      "Traceback (most recent call last):\n",
      "  File \"<stdin>\", line 12, in <module>\n",
      "KeyboardInterrupt: \n"
     ]
    }
   ],
   "source": [
    "import machine\n",
    "import time\n",
    "\n",
    "onButton = machine.Pin(0, machine.Pin.IN, machine.Pin.PULL_UP)\n",
    "offButton = machine.Pin(1, machine.Pin.IN, machine.Pin.PULL_UP)\n",
    "\n",
    "led = machine.Pin(2, machine.Pin.OUT)\n",
    "\n",
    "while True:\n",
    "    if onButton.value() == 0:\n",
    "        led.on()\n",
    "    if offButton.value() == 0:\n",
    "        led.off()"
   ]
  },
  {
   "cell_type": "markdown",
   "id": "270ddabf-f251-4a95-9097-3578cd1f6abe",
   "metadata": {},
   "source": [
    "### Task 6: Toggle LED with a Button \n",
    "Use the following hardware. To turn on and off the LED lights when the button is pressed.\n",
    "#### Hardware Requirements:\n",
    "\n",
    "=> Breadboard\n",
    "\n",
    "=> Led light\n",
    "\n",
    "=> Microcontroller\n",
    "\n",
    "=> Button \n",
    "\n",
    "=> Jumper Wire"
   ]
  },
  {
   "cell_type": "code",
   "execution_count": 55,
   "id": "180d0ca0-41fd-4088-a2ff-47b64e65eac5",
   "metadata": {},
   "outputs": [
    {
     "name": "stdout",
     "output_type": "stream",
     "text": [
      ".....................................................................................................................................................................................................................................................................................................................................................................................................................................................................\u001b[34m\n",
      "\n",
      "*** Sending Ctrl-C\n",
      "\n",
      "\u001b[0m"
     ]
    },
    {
     "name": "stderr",
     "output_type": "stream",
     "text": [
      "Traceback (most recent call last):\n",
      "  File \"<stdin>\", line 17, in <module>\n",
      "KeyboardInterrupt: \n"
     ]
    }
   ],
   "source": [
    "import machine\n",
    "import time\n",
    "\n",
    "button = machine.Pin(0, machine.Pin.IN, machine.Pin.PULL_UP)\n",
    "led = machine.Pin(2, machine.Pin.OUT)\n",
    "toggle = 0\n",
    "\n",
    "while True:\n",
    "    if onButton.value() == 0:\n",
    "        if toggle == 0:\n",
    "            led.on()\n",
    "            toggle = 1\n",
    "            time.sleep(0.5)\n",
    "        else:\n",
    "            led.off()\n",
    "            toggle = 0\n",
    "            time.sleep(0.5)"
   ]
  },
  {
   "cell_type": "code",
   "execution_count": 95,
   "id": "907b9026-a560-49eb-a2f6-7b417cb97b46",
   "metadata": {},
   "outputs": [
    {
     "name": "stdout",
     "output_type": "stream",
     "text": [
      "Measuring baseline noise... Stay silent!\n",
      "Baseline noise level: 589\n",
      "......\n",
      "<class 'serial.serialutil.SerialException'>\n",
      "ClearCommError failed (PermissionError(13, 'The device does not recognize the command.', None, 22))\n",
      "\n",
      "\n",
      "<class 'serial.serialutil.SerialException'>\n",
      "ClearCommError failed (PermissionError(13, 'The device does not recognize the command.', None, 22))\n",
      "\n"
     ]
    }
   ],
   "source": [
    "import machine\n",
    "import time\n",
    "\n",
    "# Setup microphone\n",
    "mic = machine.ADC(26)  # Mic OUT connected to GP26 (ADC0)\n",
    "\n",
    "# Setup LEDs as PWM\n",
    "led_pins = [2, 3, 4, 5, 6, 7, 8, 9, 10, 11, 12]  # Adjust for your LED setup\n",
    "leds = [machine.PWM(machine.Pin(pin)) for pin in led_pins]\n",
    "\n",
    "# Set PWM frequency\n",
    "for led in leds:\n",
    "    led.freq(1000)  # 1kHz PWM frequency\n",
    "\n",
    "# Function to map values\n",
    "def map_value(value, in_min, in_max, out_min, out_max):\n",
    "    return max(out_min, min(out_max, int((value - in_min) * (out_max - out_min) / (in_max - in_min) + out_min)))\n",
    "\n",
    "# **Step 1: Measure Baseline Noise**\n",
    "def measure_baseline(duration=1.0):\n",
    "    print(\"Measuring baseline noise... Stay silent!\")\n",
    "    samples = []\n",
    "    start_time = time.ticks_ms()\n",
    "    \n",
    "    while time.ticks_diff(time.ticks_ms(), start_time) < (duration * 1000):\n",
    "        samples.append(mic.read_u16())\n",
    "        time.sleep(0.01)  # Collect data every 10ms\n",
    "\n",
    "    baseline = sum(samples) // len(samples)  # Average noise level\n",
    "    print(\"Baseline noise level:\", baseline)\n",
    "    return baseline\n",
    "\n",
    "# Measure baseline before starting the main loop\n",
    "baseline_noise = measure_baseline()\n",
    "threshold_max = baseline_noise + 350  # Adjust upper limit based on noise\n",
    "\n",
    "while True:\n",
    "    mic_value = mic.read_u16()  # Read 16-bit ADC value\n",
    "    \n",
    "    # Map microphone input to LED range\n",
    "    scaled_value = map_value(mic_value, baseline_noise, threshold_max, 0, 65535)\n",
    "\n",
    "    # Light up LEDs progressively\n",
    "    for i, led in enumerate(leds):\n",
    "        threshold = (i + 1) * (65535 // len(leds))\n",
    "        if scaled_value > threshold:\n",
    "            led.duty_u16(65535)  # Full brightness\n",
    "        else:\n",
    "            led.duty_u16(0)  # Turn off\n",
    "\n",
    "    time.sleep(0.05)  # Small delay for smooth updates\n"
   ]
  },
  {
   "cell_type": "code",
   "execution_count": null,
   "id": "84893189-b3df-4456-a815-49203134a8d7",
   "metadata": {},
   "outputs": [],
   "source": []
  },
  {
   "cell_type": "code",
   "execution_count": null,
   "id": "75d68fe0-cf72-4e7a-bc01-dce17cdbdbe0",
   "metadata": {},
   "outputs": [],
   "source": []
  }
 ],
 "metadata": {
  "kernelspec": {
   "display_name": "MicroPython - USB",
   "language": "micropython",
   "name": "micropython"
  },
  "language_info": {
   "codemirror_mode": "python",
   "file_extension": ".py",
   "mimetype": "text/python",
   "name": "micropython"
  }
 },
 "nbformat": 4,
 "nbformat_minor": 5
}
