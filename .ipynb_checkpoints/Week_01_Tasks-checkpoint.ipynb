{
 "cells": [
  {
   "cell_type": "markdown",
   "id": "028f72cc-c041-4331-b223-acef7039e754",
   "metadata": {},
   "source": [
    "# Week_1 Tasks - Revision\n",
    "This week is a revision week.  Complete the exercises below"
   ]
  },
  {
   "cell_type": "markdown",
   "id": "2b2cd22a-a110-4a54-8e34-d30504d7f3d9",
   "metadata": {},
   "source": [
    "## Task 1:\n",
    "Complete the functions below."
   ]
  },
  {
   "cell_type": "code",
   "execution_count": null,
   "id": "05cb0a12-6ced-4280-b1d4-968e32ba82f1",
   "metadata": {},
   "outputs": [],
   "source": []
  }
 ],
 "metadata": {
  "kernelspec": {
   "display_name": "MicroPython - USB",
   "language": "micropython",
   "name": "micropython"
  },
  "language_info": {
   "codemirror_mode": "python",
   "file_extension": ".py",
   "mimetype": "text/python",
   "name": "micropython"
  }
 },
 "nbformat": 4,
 "nbformat_minor": 5
}
