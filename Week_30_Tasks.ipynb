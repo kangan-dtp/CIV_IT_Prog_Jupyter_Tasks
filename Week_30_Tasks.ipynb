{
 "cells": [
  {
   "cell_type": "markdown",
   "id": "cc03e317-5ed6-4760-a72c-9035bec3505c",
   "metadata": {},
   "source": [
    "# Practice Assessment"
   ]
  }
 ],
 "metadata": {
  "kernelspec": {
   "display_name": "MicroPython - USB",
   "language": "micropython",
   "name": "micropython"
  },
  "language_info": {
   "codemirror_mode": "python",
   "file_extension": ".py",
   "mimetype": "text/python",
   "name": "micropython"
  }
 },
 "nbformat": 4,
 "nbformat_minor": 5
}
