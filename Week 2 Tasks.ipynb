{
 "cells": [
  {
   "cell_type": "code",
   "execution_count": 4,
   "id": "86a02759-2163-4ac1-b7c3-71190cf848bc",
   "metadata": {},
   "outputs": [
    {
     "name": "stdout",
     "output_type": "stream",
     "text": [
      "\u001b[34mConnecting to --port=/dev/tty.usbmodem2101 --baud=115200 \u001b[0m\n",
      "\u001b[34mReady.\n",
      "\u001b[0m"
     ]
    }
   ],
   "source": [
    "%serialconnect to --port=/dev/tty.usbmodem2101 --baud=115200"
   ]
  },
  {
   "cell_type": "markdown",
   "id": "10e0c22a-49e9-4114-90d1-695c03d4d6ad",
   "metadata": {},
   "source": [
    "# Week 2 Tasks\n",
    "Connect your Pi Pico to your computer via Jupyter.\n",
    "\n",
    "### Task 1\n",
    "Turn on the internal led\n",
    "\n",
    "### Task 2\n",
    "Make the internal LED blink at half second intervals\n",
    "\n",
    "### Task 3\n",
    "Add two buttons.  Use one to turn the internal led on and the other to turn it off"
   ]
  },
  {
   "cell_type": "code",
   "execution_count": 5,
   "id": "be83224f-ca5c-45e6-b402-9494f6e8b69f",
   "metadata": {},
   "outputs": [],
   "source": [
    "from machine import Pin\n",
    "from utime import sleep\n",
    "\n",
    "led = Pin(\"LED\", Pin.OUT)"
   ]
  },
  {
   "cell_type": "code",
   "execution_count": 6,
   "id": "00cbb2da-8952-41c2-95b6-19cfb720392b",
   "metadata": {},
   "outputs": [],
   "source": [
    "# Task 1\n",
    "led.on()"
   ]
  },
  {
   "cell_type": "code",
   "execution_count": 7,
   "id": "9692769d-90e9-486c-b91a-c5083eba7f0b",
   "metadata": {},
   "outputs": [
    {
     "name": "stdout",
     "output_type": "stream",
     "text": [
      "...........................................................................................................................................................................................................................................................................................................................................................................................................................................................................................................................................................................................................................................................................................................................................................................................................................................................................................................................................................................................................................................................................................................................................................................................................................................................................................................................................................................\u001b[34m\n",
      "\n",
      "*** Sending Ctrl-C\n",
      "\n",
      "\u001b[0m"
     ]
    },
    {
     "name": "stderr",
     "output_type": "stream",
     "text": [
      "Traceback (most recent call last):\n",
      "  File \"<stdin>\", line 4, in <module>\n",
      "KeyboardInterrupt: \n"
     ]
    }
   ],
   "source": [
    "# Task 2\n",
    "while True:\n",
    "    led.toggle()\n",
    "    sleep(0.5)"
   ]
  },
  {
   "cell_type": "code",
   "execution_count": null,
   "id": "94ee8c1c-5a4f-4e73-bc16-213f0ed2a455",
   "metadata": {},
   "outputs": [],
   "source": []
  }
 ],
 "metadata": {
  "kernelspec": {
   "display_name": "MicroPython - USB",
   "language": "micropython",
   "name": "micropython"
  },
  "language_info": {
   "codemirror_mode": "python",
   "file_extension": ".py",
   "mimetype": "text/python",
   "name": "micropython"
  }
 },
 "nbformat": 4,
 "nbformat_minor": 5
}
