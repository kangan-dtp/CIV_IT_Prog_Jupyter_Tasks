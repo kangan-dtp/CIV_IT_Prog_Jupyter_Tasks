{
 "cells": [
  {
   "cell_type": "markdown",
   "id": "4fb61f63-9925-4af0-a44c-60571ca93660",
   "metadata": {},
   "source": [
    "# Practice Assessment"
   ]
  }
 ],
 "metadata": {
  "kernelspec": {
   "display_name": "MicroPython - USB",
   "language": "micropython",
   "name": "micropython"
  },
  "language_info": {
   "codemirror_mode": "python",
   "file_extension": ".py",
   "mimetype": "text/python",
   "name": "micropython"
  }
 },
 "nbformat": 4,
 "nbformat_minor": 5
}
