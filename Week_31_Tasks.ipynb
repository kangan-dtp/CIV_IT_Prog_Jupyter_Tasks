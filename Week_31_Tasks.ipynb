{
 "cells": [
  {
   "cell_type": "markdown",
   "id": "91bec841-5825-485a-8daf-689ff6cd6c56",
   "metadata": {},
   "source": [
    "# Assessment"
   ]
  }
 ],
 "metadata": {
  "kernelspec": {
   "display_name": "MicroPython - USB",
   "language": "micropython",
   "name": "micropython"
  },
  "language_info": {
   "codemirror_mode": "python",
   "file_extension": ".py",
   "mimetype": "text/python",
   "name": "micropython"
  }
 },
 "nbformat": 4,
 "nbformat_minor": 5
}
