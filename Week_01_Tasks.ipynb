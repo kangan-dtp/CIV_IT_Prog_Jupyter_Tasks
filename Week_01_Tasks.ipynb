{
 "cells": [
  {
   "cell_type": "code",
   "execution_count": 9,
   "id": "470ea7ff-30b5-4e44-8cd2-9a41eca18f73",
   "metadata": {},
   "outputs": [],
   "source": [
    "passed = 0"
   ]
  },
  {
   "cell_type": "markdown",
   "id": "028f72cc-c041-4331-b223-acef7039e754",
   "metadata": {
    "editable": true,
    "slideshow": {
     "slide_type": ""
    },
    "tags": []
   },
   "source": [
    "# Week 1 Tasks - Revision\n",
    "This week is a revision week.  Complete the exercises below\n",
    "Run all tasks in Jupyter before starting\n",
    "\n",
    "You can test the completion of your tasks by running the cell.  If the the functions have been completed correctly, the output will be \"All test cases passed\".\n",
    "Otherwise, you will see an assertion error with the expected output and the output of your function."
   ]
  },
  {
   "cell_type": "markdown",
   "id": "2b2cd22a-a110-4a54-8e34-d30504d7f3d9",
   "metadata": {},
   "source": [
    "## Task 1:\n",
    "Complete the functions below."
   ]
  },
  {
   "cell_type": "code",
   "execution_count": 11,
   "id": "b83545cd-ad83-487c-b714-d65fbd3e86c1",
   "metadata": {},
   "outputs": [
    {
     "name": "stdout",
     "output_type": "stream",
     "text": [
      "Expected 3 but got None\n"
     ]
    }
   ],
   "source": [
    "# adds two numbers and returns the result as a  number\n",
    "def add_two_nums(a, b):\n",
    "    pass\n",
    "\n",
    "# === Test Cases - Do not modify =====================\n",
    "try:\n",
    "    assert add_two_nums(1, 2) == 3, f\"Expected 3 but got {add_two_nums(1, 2)}\"\n",
    "    assert add_two_nums(3, 4) == 7, f\"Expected 7 but got {add_two_nums(3, 4)}\"\n",
    "    assert add_two_nums(5, 6) == 11, f\"Expected 11 but got {add_two_nums(5, 6)}\"\n",
    "    assert add_two_nums(7, -8) == -1, f\"Expected -1 but got {add_two_nums(7, -8)}\"\n",
    "    assert add_two_nums(-9, 10) == 1, f\"Expected 1 but got {add_two_nums(-9, 10)}\"\n",
    "    assert add_two_nums(-11, 11) == 0, f\"Expected 0 but got {add_two_nums(-11, 11)}\"\n",
    "    \n",
    "    print(\"All tests cases passed\")\n",
    "    passed += 1\n",
    "except AssertionError as e:\n",
    "    print(e)\n",
    "\n"
   ]
  },
  {
   "cell_type": "code",
   "execution_count": null,
   "id": "2a155db7-baff-4187-950c-82d9b98a1cc9",
   "metadata": {},
   "outputs": [],
   "source": [
    "# returns the square of a number.\n",
    "# note: zero squared is equal to 1\n",
    "def power_of_two(a):\n",
    "   pass\n",
    "\n",
    "# === Test Cases - DO NOT MODIFY ===\n",
    "assert power_of_two(0) == 1, f\"Expected 1 but got {power_of_two(0)}\"\n",
    "assert power_of_two(1) == 1, f\"Expected 1 but got {power_of_two(1)}\"\n",
    "assert power_of_two(2) == 4, f\"Expected 4 but got {power_of_two(2)}\"\n",
    "assert power_of_two(3) == 9, f\"Expected 9 but got {power_of_two(3)}\"\n",
    "assert power_of_two(-4) == 16, f\"Expected 16 but got {power_of_two(4)}\"\n",
    "\n",
    "print(\"All test cases passed\")\n",
    "passed += 1"
   ]
  },
  {
   "cell_type": "code",
   "execution_count": null,
   "id": "3375946d-c29e-4e32-bc1d-7806ddebcfed",
   "metadata": {},
   "outputs": [],
   "source": [
    "\n",
    "# adds two numbers and returns the result as a number\n",
    "# returns the result of x to the power of y, must use a loop or recursion.  y must be >= 0, else return None\n",
    "def power(x, y):\n",
    "    pass\n",
    "\n",
    "\n",
    "# === Test Cases - Do not modify ================\n",
    "assert power(2, 2) == 4, f\"expected 4 but got {power(2, 2)}\"\n",
    "assert power(3, 3) == 27, f\"expected 27 but got {power(3, 3)}\"\n",
    "assert power(2, 0) == 1, f\"expected 1 but got {power(2, 0)}\"\n",
    "assert power(0, 0) == 1, f\"expected 1 but got {power(0, 0)}\"\n",
    "assert power(0, 1) == 0, f\"expected 0 but got {power(0, 1)}\"\n",
    "assert power(0, 2) == 0, f\"expected 0 but got {power(0, 2)}\"\n",
    "assert power(-3, 3) == -27, f\"expected -27 but got {power(-3, 3)}\"\n",
    "assert power(-2, 2) == 4, f\"expected 4 but got {power(-2, 2)}\"\n",
    "assert power(-2, 3) == -8, f\"expected -8 but got {power(-2, 3)}\"\n",
    "assert power(-2, -2) == None, f\"expected None but got {power(-2, 0)}\"\n",
    "\n",
    "print(\"all test cases passed\")\n",
    "passed += 1"
   ]
  },
  {
   "cell_type": "code",
   "execution_count": null,
   "id": "81c27480-1219-4097-8808-5a2acd65cf39",
   "metadata": {},
   "outputs": [],
   "source": [
    "# returns the factorial of a number, must use a loop or recursion.  n must be a positive integer.\n",
    "# if n is less than 0, return -1\n",
    "# factorial of 0 is 1\n",
    "def factorial(n):\n",
    "    pass\n",
    "\n",
    "\n",
    "# === Test Cases - Do not modify =====================\n",
    "assert factorial(0) == 1, f\"Expected 1 but got {factorial(0)}\"\n",
    "assert factorial(1) == 1, f\"Expected 1 but got {factorial(1)}\"\n",
    "assert factorial(2) == 2, f\"Expected 2 but got {factorial(2)}\"\n",
    "assert factorial(3) == 6, f\"Expected 6 but got {factorial(3)}\"\n",
    "assert factorial(4) == 24, f\"Expected 24 but got {factorial(4)}\"\n",
    "assert factorial(-3) == 0, f\"Expected 0 but got {factorial(-3)}\"\n",
    "assert factorial(-1) == 0, f\"Expected 0 but got {factorial(-1)}\"\n",
    "\n",
    "print(\"All test cases passed\")\n",
    "passed += 1"
   ]
  },
  {
   "cell_type": "code",
   "execution_count": null,
   "id": "374f376f-495f-4966-97d4-c6ca5af0f956",
   "metadata": {},
   "outputs": [],
   "source": [
    "# returns the sum of all numbers in an array.  Must use a loop or recursion.\n",
    "# if the array is empty, return \"error\"\n",
    "def add_nums_array(arr):\n",
    "    pass\n",
    "\n",
    "\n",
    "# === Test Cases - Do not modify =====================\n",
    "assert add_nums_array([1, 2, 3]) == 6, f\"Expected 6 but got {add_nums_array([1, 2, 3])}\"\n",
    "assert add_nums_array([-1, 1]) == 0, f\"Expected 0 but got {add_nums_array([-1, 1])}\"\n",
    "assert add_nums_array([0, 0, 0]) == 0, f\"Expected 0 but got {add_nums_array([0, 0, 0])}\"\n",
    "assert add_nums_array([100, 200, -300]) == 0, f\"Expected 0 but got {add_nums_array([100, 200, -300])}\"\n",
    "assert add_nums_array([-1, -2, -3]) == -6, f\"Expected -6 but got {add_nums_array([-1, -2, -3])}\"\n",
    "assert add_nums_array([]) == \"error\", f\"Expected 'error' but got {add_nums_array([])}\"\n",
    "\n",
    "print(\"All test cases passed\")"
   ]
  },
  {
   "cell_type": "code",
   "execution_count": null,
   "id": "e221fb07-7e61-41c1-8c1f-21b723239ff3",
   "metadata": {},
   "outputs": [],
   "source": [
    "# returns the first element of an array. Must use a loop or recursion.\n",
    "# return None if empty\n",
    "def first_element(arr):\n",
    "    pass\n",
    "\n",
    "\n",
    "# === Test Cases - Do not modify =====================\n",
    "assert first_element([1, 2, 3]) == 1, f\"Expected 1 but got {first_element([1, 2, 3])}\"\n",
    "assert first_element([-1, 1]) == -1, f\"Expected -1 but got {first_element([-1, 1])}\"\n",
    "assert first_element([0, 0, 0]) == 0, f\"Expected 0 but got {first_element([0, 0, 0])}\"\n",
    "assert first_element([100, 200, -300]) == 100, f\"Expected 100 but got {first_element([100, 200, -300])}\"\n",
    "assert first_element([-1, -2, -3]) == -1, f\"Expected -1 but got {first_element([-1, -2, -3])}\"\n",
    "assert first_element([]) == None, f\"Expected None but got {first_element([])}\"\n",
    "\n",
    "print(\"All test cases passed\")"
   ]
  },
  {
   "cell_type": "code",
   "execution_count": null,
   "id": "9f2f4995-e525-4b8c-a4bc-6d2df3d51e07",
   "metadata": {},
   "outputs": [],
   "source": [
    "# returns the last element of an array.  Must use a loop or recursion.\n",
    "# return None if empty\n",
    "def last_element(arr):\n",
    "    pass\n",
    "\n",
    "\n",
    "# === Test Cases - Do not modify =====================\n",
    "assert last_element([1, 2, 3]) == 3, f\"Expected 3 but got {last_element([1, 2, 3])}\"\n",
    "assert last_element([-1, 1]) == 1, f\"Expected 1 but got {last_element([-1, 1])}\"\n",
    "assert last_element([0, 0, 0]) == 0, f\"Expected 0 but got {last_element([0, 0, 0])}\"\n",
    "assert last_element([100, 200, -300]) == -300, f\"Expected -300 but got {last_element([100, 200, -300])}\"\n",
    "assert last_element([-1, -2, -3]) == -3, f\"Expected -3 but got {last_element([-1, -2, -3])}\"\n",
    "assert last_element([]) == None, f\"Expected None but got {last_element([])}\"\n",
    "\n",
    "print(\"All test cases passed\")"
   ]
  },
  {
   "cell_type": "code",
   "execution_count": null,
   "id": "f2559e1a-f730-4b95-ac2d-8e60e45598ad",
   "metadata": {},
   "outputs": [],
   "source": [
    "# returns the number of elements in an array.  Must use a loop or recursion.\n",
    "def num_elements(arr):\n",
    "    pass\n",
    "\n",
    "\n",
    "# === Test Cases - Do not modify =====================\n",
    "assert num_elements([1, 2, 3]) == 3, f\"Expected 3 but got {num_elements([1, 2, 3])}\"\n",
    "assert num_elements([-1, 1]) == 2, f\"Expected 2 but got {num_elements([-1, 1])}\"\n",
    "assert num_elements([0, 0, 0]) == 3, f\"Expected 3 but got {num_elements([0, 0, 0])}\"\n",
    "assert num_elements([100, 200, -300]) == 3, f\"Expected 3 but got {num_elements([100, 200, -300])}\"\n",
    "assert num_elements([-1, -2, -3]) == 3, f\"Expected 3 but got {num_elements([-1, -2, -3])}\"\n",
    "assert num_elements([]) == 0, f\"Expected 0 but got {num_elements([])}\"\n",
    "\n",
    "print(\"All test cases passed\")"
   ]
  },
  {
   "cell_type": "code",
   "execution_count": null,
   "id": "954cc6c0-ba5a-4a1f-aae7-c9d6dabf6537",
   "metadata": {},
   "outputs": [],
   "source": [
    "# returns two strings concatenated together.\n",
    "def concat_strings(str1, str2):\n",
    "    pass\n",
    "\n",
    "\n",
    "# === Test Cases - Do not modify =====================\n",
    "assert concat_strings(\"hello\", \"world\") == \"helloworld\", f\"Expected 'helloworld' but got {concat_strings('hello', 'world')}\"\n",
    "assert concat_strings(\"\", \"\") == \"\", f\"Expected '' but got {concat_strings('', '')}\"\n",
    "assert concat_strings(\"hello\", \"\") == \"hello\", f\"Expected 'hello' but got {concat_strings('hello', '')}\"\n",
    "assert concat_strings(\"\", \"world\") == \"world\", f\"Expected 'world' but got {concat_strings('', 'world')}\"\n",
    "assert concat_strings(\"hello \", \"world\") == \"hello world\", f\"Expected 'helloworld' but got {concat_strings('hello', 'world')}\"\n",
    "assert concat_strings(\"hello\", \" world\") == \"hello world\", f\"Expected 'helloworld' but got {concat_strings('hello', 'world')}\"\n",
    "\n",
    "print(\"All test cases passed\")"
   ]
  },
  {
   "cell_type": "code",
   "execution_count": null,
   "id": "b7012b61-f971-43d5-b2e6-09ff6047dab0",
   "metadata": {},
   "outputs": [],
   "source": [
    "# returns a decimal to the nearest whole number.  eg. 1.2 should return 1, 1.5 should return 2\n",
    "def round_decimal(num):\n",
    "    pass\n",
    "\n",
    "\n",
    "# === Test Cases - Do not modify =====================\n",
    "assert round_decimal(1.2) == 1, f\"Expected 1 but got {round_decimal(1.2)}\"\n",
    "assert round_decimal(1.5) == 2, f\"Expected 2 but got {round_decimal(1.5)}\"\n",
    "assert round_decimal(2.7) == 3, f\"Expected 3 but got {round_decimal(2.7)}\"\n",
    "assert round_decimal(3.5) == 4, f\"Expected 4 but got {round_decimal(3.5)}\"\n",
    "assert round_decimal(4.0) == 4, f\"Expected 4 but got {round_decimal(4.0)}\"\n",
    "assert round_decimal(4.123) == 4, f\"Expected 4 but got {round_decimal(4.123)}\"\n",
    "assert round_decimal(4.999) == 5, f\"Expected 5 but got {round_decimal(4.999)}\"\n",
    "\n",
    "print(\"All test cases passed\")"
   ]
  },
  {
   "cell_type": "markdown",
   "id": "8a2fce71-9d5d-459b-8e0d-67a1a06a710b",
   "metadata": {},
   "source": [
    "# Bonus Tasks:  Stretch yourself a little and have a go at the below"
   ]
  },
  {
   "cell_type": "code",
   "execution_count": null,
   "id": "393210cb-b6a8-438b-b3e8-9c130a29995b",
   "metadata": {},
   "outputs": [],
   "source": [
    "# returns the number of characters in a string.  Must use a loop or recursion.\n",
    "def num_chars(str1):\n",
    "    pass\n",
    "\n",
    "\n",
    "# === Test Cases - Do not modify =====================\n",
    "assert num_chars(\"hello\") == 5, f\"Expected 5 but got {num_chars('hello')}\"\n",
    "assert num_chars(\"\") == 0, f\"Expected 0 but got {num_chars('')}\"\n",
    "assert num_chars(\"a\") == 1, f\"Expected 1 but got {num_chars('a')}\"\n",
    "assert num_chars(\"hello world\") == 11, f\"Expected 11 but got {num_chars('hello world')}\"\n",
    "\n",
    "print(\"All test cases passed\")"
   ]
  },
  {
   "cell_type": "code",
   "execution_count": null,
   "id": "7045b3cd-ff9f-4f69-8fdd-6d547f67ef5a",
   "metadata": {},
   "outputs": [],
   "source": [
    "# returns the amount of times character x appears in string str1.\n",
    "def count_char(x, str1):\n",
    "    pass\n",
    "\n",
    "\n",
    "# === Test Cases - Do not modify =====================\n",
    "\"not passed\"\n",
    "assert count_char(\"a\", \"hello\") == 0, f\"Expected 0 but got {count_char('a', 'hello')}\"\n",
    "assert count_char(\"l\", \"hello\") == 2, f\"Expected 2 but got {count_char('l', 'hello')}\"\n",
    "assert count_char(\"o\", \"hello\") == 1, f\"Expected 1 but got {count_char('o', 'hello')}\"\n",
    "assert count_char(\"h\", \"hello\") == 1, f\"Expected 1 but got {count_char('h', 'hello')}\"\n",
    "assert count_char(\"b\", \"\") == 0, f\"Expected 0 but got {count_char('b', '')}\"\n",
    "assert count_char(\"a\", \"a\") == 1, f\"Expected 1 but got {count_char('a', 'a')}\"\n",
    "\n",
    "print(\"All test cases passed\")\n",
    "\"passed\""
   ]
  },
  {
   "cell_type": "code",
   "execution_count": 12,
   "id": "3de556a1-516a-48ec-880d-48e1cbe4882c",
   "metadata": {},
   "outputs": [
    {
     "name": "stdout",
     "output_type": "stream",
     "text": [
      "1\n"
     ]
    }
   ],
   "source": [
    "print(passed)"
   ]
  },
  {
   "cell_type": "code",
   "execution_count": null,
   "id": "e8d72ff4",
   "metadata": {},
   "outputs": [],
   "source": [
    "# returns the number of characters in a string.  Must use a loop or recursion.\n",
    "def num_chars(str1):\n",
    "    pass\n",
    "\n",
    "# returns string with the first letter capitalized.\n",
    "def capitalize_first_letter(str1):\n",
    "    pass\n",
    "\n",
    "# returns the sum of all even numbers in an array.  Must use a loop or recursion.\n",
    "def add_even_nums(arr):\n",
    "    pass\n",
    "\n",
    "# returns the sum of all odd numbers in an array.  Must use a loop or recursion.\n",
    "def add_odd_nums(arr):\n",
    "    pass\n",
    "\n",
    "# returns the string in reverse.  Must use a loop or recursion.\n",
    "def reverse_string(str1):\n",
    "    pass\n",
    "\n",
    "# returns whether string is a palindrome.  Must use a loop or recursion.\n",
    "# a palindrome is a word that is the same forwards and backwards.\n",
    "def is_palindrome(str1):\n",
    "    pass\n"
   ]
  }
 ],
 "metadata": {
  "kernelspec": {
   "display_name": "Python 3",
   "language": "python",
   "name": "python3"
  },
  "language_info": {
   "codemirror_mode": {
    "name": "ipython",
    "version": 3
   },
   "file_extension": ".py",
   "mimetype": "text/x-python",
   "name": "python",
   "nbconvert_exporter": "python",
   "pygments_lexer": "ipython3",
   "version": "3.8.10"
  }
 },
 "nbformat": 4,
 "nbformat_minor": 5
}
