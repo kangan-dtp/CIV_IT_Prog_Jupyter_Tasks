{
 "cells": [
  {
   "cell_type": "markdown",
   "id": "a4955f53-84c5-4d98-92b8-0af26f732b02",
   "metadata": {},
   "source": [
    "# Assessment"
   ]
  }
 ],
 "metadata": {
  "kernelspec": {
   "display_name": "MicroPython - USB",
   "language": "micropython",
   "name": "micropython"
  },
  "language_info": {
   "codemirror_mode": "python",
   "file_extension": ".py",
   "mimetype": "text/python",
   "name": "micropython"
  }
 },
 "nbformat": 4,
 "nbformat_minor": 5
}
