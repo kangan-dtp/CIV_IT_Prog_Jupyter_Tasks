{
 "cells": [
  {
   "cell_type": "markdown",
   "id": "2b6b0dda",
   "metadata": {},
   "source": [
    "# Week 4 Tasks\n",
    "Connect your Pi Pico or ESP32 to your computer via Jupyter."
   ]
  },
  {
   "cell_type": "markdown",
   "id": "3aab1884",
   "metadata": {},
   "source": [
    "### Configure your serial connection to your microcontroller. Use the following commands to establish a serial connection.\n",
    "#### For Windows\n",
    " %serialconnect to --port=COM3 --baud=115200\n",
    "#### For macOS\n",
    " %serialconnect to --port=/dev/tty.SLAB_USBtoUART --baud=115200"
   ]
  },
  {
   "cell_type": "code",
   "execution_count": null,
   "id": "51e71a53-d84e-4600-b23b-6bc6c7b2b126",
   "metadata": {},
   "outputs": [],
   "source": []
  },
  {
   "cell_type": "markdown",
   "id": "78e89893",
   "metadata": {},
   "source": [
    "## Task 1: Trafic light Prototype\n",
    "### Scenario\n",
    "A small municipality has hired you to prototype a simple traffic light controller for a quiet residential intersection. The local council wants an easy-to-follow Red-Yellow-Green cycle to regulate car traffic. Your job is to demonstrate a working model of the traffic light using a Raspberry Pi Pico (or any microcontroller) and three LEDs.\n",
    "\n",
    "### Key Requirements\n",
    "##### Traffic Light Cycle\n",
    " 1. Red → Yellow → Green\n",
    " 2. Red ON (enough time to ensure vehicles fully stop).\n",
    " 3. Yellow ON (brief warning).\n",
    " 4. Green ON (allow traffic flow).\n",
    " 5. Cycle repeats continuously, with no overlap of multiple lights.\n",
    "### Hardware Requriment\n",
    " 1. Breadboard\n",
    " 2. Three LED lights (Green, Yellow, Red)\n",
    " 3. Pi Pico or ESP32\n",
    " 4. Jumper wires \n"
   ]
  },
  {
   "cell_type": "code",
   "execution_count": null,
   "id": "5e7936a8-4ee5-42e0-9712-a3b56376c913",
   "metadata": {},
   "outputs": [],
   "source": []
  },
  {
   "cell_type": "markdown",
   "id": "ea1c6b40",
   "metadata": {
    "vscode": {
     "languageId": "plaintext"
    }
   },
   "source": [
    "## Task 2: Basic Traffic light with Pedestrian Button and light\n",
    "### Scenario\n",
    "After successfully demonstrating a basic traffic light prototype, the city council of “Greenfield Heights” has requested an enhanced version to accommodate pedestrians at a busy section of Main Street safely. \n",
    "Specifically, they want:\n",
    "\n",
    "1.\tRetain the existing traffic light cycle (Red, Yellow, Green) for vehicles.\n",
    "2.\tAdd a pedestrian signal with Green (Walk) and Red (Don’t Walk) lights.\n",
    "3.\tInclude a pedestrian button so pedestrians can request to cross.\n",
    "### Hardware Requirement\n",
    " 1. Breadbord\n",
    " 2. Five LED lights (Green, Yellow, Red, for vehicles. Green and Red for Predistrain)\n",
    " 3. Button\n",
    " 4. Pi Pico or ESP32\n",
    " 5. Jumper wires \n"
   ]
  },
  {
   "cell_type": "code",
   "execution_count": null,
   "id": "e37a3426-3115-485b-92f9-bb18da9f81de",
   "metadata": {},
   "outputs": [],
   "source": []
  },
  {
   "cell_type": "markdown",
   "id": "2030af2e",
   "metadata": {},
   "source": [
    "## Task 2: Water Tank Level Indicator System\n",
    "### Scenario\n",
    "Greenfield Municipality requires a visual representation of the water level in its small-scale reservoir tank. You've been asked to create a simplified IoT prototype using LEDs to indicate the current state of the reservoir, simulating both filling (ascending) and draining (descending) sequences.\n",
    "### Operational Description:\n",
    "A sequence of LEDs represents the water level inside the tower. The LEDs will light sequentially from the bottom to the top, indicating the tank is filling, and then in reverse direction, indicating draining. This visual feedback helps technicians and municipality staff quickly assess tank operations and ensure proper functionality.\n",
    "\n",
    "Additionally, each LED activation status (e.g., \"Filling: LED 1 activated\", \"Draining: LED 4 activated\") should be printed to the serial console for remote monitoring.\n",
    "### Hardware Requriment\n",
    " 1. Breadbord\n",
    " 2. Four LED lights (Preferably different colours for clarity)\n",
    " 3. Pi Pico or ESP32\n",
    " 4. Jumper wires \n",
    "\n",
    "#### Key Requirements: \n",
    "To meet the municipality’s coding standards, you must:\n",
    "\n",
    "1.\tWrite a function that controls the ascending/descending LED logic.\n",
    "2.\tInside this function, use at least one for loop to iterate through your list of LEDs in ascending and descending order.\n",
    "\n"
   ]
  },
  {
   "cell_type": "code",
   "execution_count": null,
   "id": "dc21d88f-e016-4401-a522-986d31c03972",
   "metadata": {},
   "outputs": [],
   "source": []
  },
  {
   "cell_type": "markdown",
   "id": "a697dd10",
   "metadata": {},
   "source": [
    "## Task 4: Multi-Mode LED Display for Community Events\n",
    "### Scenario\n",
    "The Greenfield Heights Recreation Department wants a multi-purpose LED display to be used at various community events—fairs, holiday gatherings, and educational demos. \n",
    "They’ve already seen a basic LED ladder prototype but now request multiple behaviour patterns (modes) that a user can select:\n",
    "\n",
    "1.\tMode A: Basic Fill & Drain – LEDs turn on from bottom to top, then off from top to bottom.\n",
    "2.\tMode B: Reverse – LEDs turn on from bottom to top, then back down.\n",
    "### Hardware Requriment\n",
    " 1. Breadbord\n",
    " 2. LED lights\n",
    " 3. Button\n",
    " 4. Pi Pico or ESP32\n",
    " 5. Jumper wires \n"
   ]
  },
  {
   "cell_type": "code",
   "execution_count": null,
   "id": "f2eec6aa-864d-4d47-b3cc-86a6a8a03db2",
   "metadata": {},
   "outputs": [],
   "source": []
  },
  {
   "cell_type": "markdown",
   "id": "f4290ab0-03a3-40d7-a8d8-012417339836",
   "metadata": {},
   "source": [
    "## Task 5: Data Centre Monitoring and Alert System\n",
    "### Scenario\n",
    "You are responsible for managing a small data centre that requires continuous monitoring. You've implemented a basic IoT-based alert system utilising an ESP32 or Raspberry Pi Pico microcontroller and LEDs. This system provides clear visual and textual indicators of system statuses to allow technicians to quickly identify and respond to scenarios such as emergencies, normal operation, cooling activities, or maintenance requirements.\n",
    "#### LEDs Status Indicators:\n",
    "\n",
    " => Red LED: Indicates an Emergency Alert (e.g., overheating, critical hardware failure).\n",
    "    \n",
    " => Green LED: Indicates Normal Operation (systems are running smoothly).\n",
    "    \n",
    " => Blue LED: Indicates System Cooling (active cooling processes in progress).\n",
    "    \n",
    " => Yellow LED: Indicates Maintenance Required (scheduled or proactive maintenance is needed).\n",
    "    \n",
    "Additionally, the system logs these statuses by outputting messages to the JupyterLab console, providing visual and textual status updates.\n",
    "\n",
    "### Hardware Requriment\n",
    " 1. Breadbord\n",
    " 2. LED lights (Red, Green, Blue and Yellow)\n",
    " 3. Button\n",
    " 4. Pi Pico or ESP32\n",
    " 5. Jumper wires \n",
    "\n"
   ]
  },
  {
   "cell_type": "code",
   "execution_count": null,
   "id": "418e4dcc-9da5-402e-bb69-b78d0db23a27",
   "metadata": {},
   "outputs": [],
   "source": []
  }
 ],
 "metadata": {
  "kernelspec": {
   "display_name": "MicroPython - USB",
   "language": "micropython",
   "name": "micropython"
  },
  "language_info": {
   "codemirror_mode": "python",
   "file_extension": ".py",
   "mimetype": "text/python",
   "name": "micropython"
  }
 },
 "nbformat": 4,
 "nbformat_minor": 5
}
