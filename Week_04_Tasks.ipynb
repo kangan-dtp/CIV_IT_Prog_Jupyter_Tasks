{
 "cells": [
  {
   "cell_type": "markdown",
   "id": "2b6b0dda",
   "metadata": {},
   "source": [
    "# Week 4 Tasks\n",
    "Connect your Pi Pico to your computer via Jupyter."
   ]
  },
  {
   "cell_type": "markdown",
   "id": "ffb107eb",
   "metadata": {},
   "source": [
    "## Task 1:\n",
    "Turn LED light on.\n",
    "### Hardware Requriment\n",
    " 1. Breadbord\n",
    " 2. LED light\n",
    " 3. Pi Pico\n",
    " 4. Jumper wires"
   ]
  },
  {
   "cell_type": "code",
   "execution_count": null,
   "id": "bb00f198-4725-479f-9957-42cf818dcbea",
   "metadata": {},
   "outputs": [],
   "source": []
  },
  {
   "cell_type": "markdown",
   "id": "e7785004",
   "metadata": {},
   "source": [
    "## Task 2:\n",
    "Make LED light Blink at half second intervals.\n",
    "### Hardware Requriment\n",
    " 1. Breadbord\n",
    " 2. LED light\n",
    " 3. Pi Pico\n",
    " 4. Jumper wires "
   ]
  },
  {
   "cell_type": "code",
   "execution_count": null,
   "id": "63583fa2-b1e4-43dd-9741-e44d7d5b54a0",
   "metadata": {},
   "outputs": [],
   "source": []
  },
  {
   "cell_type": "markdown",
   "id": "bb3547b9",
   "metadata": {},
   "source": [
    "## Task 3:\n",
    "Add two buttons.  Use one to turn the internal led on and the other to turn it off.\n",
    "### Hardware Requriment\n",
    " 1. Breadbord\n",
    " 2. LED light\n",
    " 3. Button\n",
    " 4. Pi Pico\n",
    " 5. Jumper wires "
   ]
  },
  {
   "cell_type": "code",
   "execution_count": null,
   "id": "9420c133-71d7-4b1a-ab0c-609a366ff11b",
   "metadata": {},
   "outputs": [],
   "source": []
  },
  {
   "cell_type": "markdown",
   "id": "78e89893",
   "metadata": {},
   "source": [
    "## Task 4: Trafic light Prototype\n",
    "### Scenario\n",
    "A small municipality has hired you to prototype a simple traffic light controller for a quiet residential intersection. The local council wants an easy-to-follow Red-Yellow-Green cycle to regulate car traffic. Your job is to demonstrate a working model of the traffic light using a Raspberry Pi Pico (or any microcontroller) and three LEDs.\n",
    "\n",
    "### Key Requirements\n",
    "##### Traffic Light Cycle\n",
    " 1. Red → Yellow → Green\n",
    " 2. Red ON (enough time to ensure vehicles fully stop).\n",
    " 3. Yellow ON (brief warning).\n",
    " 4. Green ON (allow traffic flow).\n",
    " 5. Cycle repeats continuously, with no overlap of multiple lights.\n",
    "### Hardware Requriment\n",
    " 1. Breadbord\n",
    " 2. Three LED light (Green, Yellow, Red)\n",
    " 3. Pi Pico\n",
    " 4. Jumper wires \n"
   ]
  },
  {
   "cell_type": "code",
   "execution_count": null,
   "id": "6d066d3c-7b85-4a1f-b069-b5de702d9c2f",
   "metadata": {},
   "outputs": [],
   "source": []
  },
  {
   "cell_type": "markdown",
   "id": "ea1c6b40",
   "metadata": {
    "vscode": {
     "languageId": "plaintext"
    }
   },
   "source": [
    "## Task 5: Basic Traffic light with Pedestrian Button and light\n",
    "### Scenario\n",
    "After successfully demonstrating a basic traffic light prototype, the city council of “Greenfield Heights” has requested an enhanced version to accommodate pedestrians at a busy section of Main Street safely. \n",
    "Specifically, they want:\n",
    "\n",
    "1.\tRetain the existing traffic light cycle (Red, Yellow, Green) for vehicles.\n",
    "2.\tAdd a pedestrian signal with Green (Walk) and Red (Don’t Walk) lights.\n",
    "3.\tInclude a pedestrian button so pedestrians can request to cross.\n",
    "### Hardware Requirement\n",
    " 1. Breadbord\n",
    " 2. Five LED lights (Green, Yellow, Red, for vehicles. Green and Red for Predistrain)\n",
    " 3. Button\n",
    " 4. Pi Pico\n",
    " 5. Jumper wires \n"
   ]
  },
  {
   "cell_type": "code",
   "execution_count": null,
   "id": "6ef9f791-1f7e-4858-a24c-3a26a1962071",
   "metadata": {},
   "outputs": [],
   "source": []
  }
 ],
 "metadata": {
  "kernelspec": {
   "display_name": "MicroPython - USB",
   "language": "micropython",
   "name": "micropython"
  },
  "language_info": {
   "codemirror_mode": "python",
   "file_extension": ".py",
   "mimetype": "text/python",
   "name": "micropython"
  }
 },
 "nbformat": 4,
 "nbformat_minor": 5
}
