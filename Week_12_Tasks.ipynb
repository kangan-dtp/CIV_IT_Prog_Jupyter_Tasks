{
 "cells": [
  {
   "cell_type": "markdown",
   "id": "ca1ebaec-38c4-4fc9-be11-01038b651706",
   "metadata": {},
   "source": [
    "# Week 12 Tasks"
   ]
  },
  {
   "cell_type": "markdown",
   "id": "e64be9e0-2a20-4f5d-8c60-07683750aa0f",
   "metadata": {},
   "source": [
    "#### Configure your serial connection to your microcontroller. Use the following commands to establish a serial connection.\n",
    "##### Example\n",
    "#### For Windows\n",
    " %serialconnect to --port=COM3 --baud=115200\n",
    "#### For macOS\n",
    " %serialconnect to --port=/dev/tty.SLAB_USBtoUART --baud=115200"
   ]
  },
  {
   "cell_type": "code",
   "execution_count": null,
   "id": "b6366448-3f9f-443b-bb82-5014fa76f3e9",
   "metadata": {},
   "outputs": [],
   "source": []
  },
  {
   "cell_type": "markdown",
   "id": "062d816b-e7ed-4d2f-af32-cc3f3df181b0",
   "metadata": {},
   "source": [
    "## Task 1:\n"
   ]
  }
 ],
 "metadata": {
  "kernelspec": {
   "display_name": "MicroPython - USB",
   "language": "micropython",
   "name": "micropython"
  },
  "language_info": {
   "codemirror_mode": "python",
   "file_extension": ".py",
   "mimetype": "text/python",
   "name": "micropython"
  }
 },
 "nbformat": 4,
 "nbformat_minor": 5
}
