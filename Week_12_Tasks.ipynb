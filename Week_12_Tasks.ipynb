{
 "cells": [
  {
   "cell_type": "markdown",
   "id": "ca1ebaec-38c4-4fc9-be11-01038b651706",
   "metadata": {},
   "source": [
    "# Week 12 Tasks"
   ]
  },
  {
   "cell_type": "markdown",
   "id": "062d816b-e7ed-4d2f-af32-cc3f3df181b0",
   "metadata": {},
   "source": [
    "## Task 1:\n"
   ]
  }
 ],
 "metadata": {
  "kernelspec": {
   "display_name": "MicroPython - USB",
   "language": "micropython",
   "name": "micropython"
  },
  "language_info": {
   "codemirror_mode": "python",
   "file_extension": ".py",
   "mimetype": "text/python",
   "name": "micropython"
  }
 },
 "nbformat": 4,
 "nbformat_minor": 5
}
