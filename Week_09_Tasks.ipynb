{
 "cells": [
  {
   "cell_type": "markdown",
   "id": "9c2ba250-d3d1-4efb-a965-c4ab6c1c371d",
   "metadata": {},
   "source": [
    "# Week 9 Tasks"
   ]
  },
  {
   "cell_type": "markdown",
   "id": "11855b4e-2a0a-40dc-b678-0e6dab12123f",
   "metadata": {},
   "source": [
    "## Task 1: "
   ]
  },
  {
   "cell_type": "markdown",
   "id": "bc0218c2-840f-4bca-bc30-fbddf7ef92f9",
   "metadata": {},
   "source": [
    "## Task 2: "
   ]
  },
  {
   "cell_type": "markdown",
   "id": "72067fd6-17f8-4c04-8e85-9c3705153f3d",
   "metadata": {},
   "source": [
    "## Task 3: "
   ]
  },
  {
   "cell_type": "markdown",
   "id": "0e376495-dfa0-4102-b65d-68fc379fb125",
   "metadata": {},
   "source": [
    "## Task 4: "
   ]
  }
 ],
 "metadata": {
  "kernelspec": {
   "display_name": "MicroPython - USB",
   "language": "micropython",
   "name": "micropython"
  },
  "language_info": {
   "codemirror_mode": "python",
   "file_extension": ".py",
   "mimetype": "text/python",
   "name": "micropython"
  }
 },
 "nbformat": 4,
 "nbformat_minor": 5
}
