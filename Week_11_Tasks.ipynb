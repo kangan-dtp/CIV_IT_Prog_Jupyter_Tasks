{
 "cells": [
  {
   "cell_type": "markdown",
   "id": "6d77eac8-5033-43f4-a631-f6b13f08fbb2",
   "metadata": {},
   "source": [
    "# Week 11: Tasks"
   ]
  },
  {
   "cell_type": "markdown",
   "id": "ff23bff8-e856-458c-8b53-66fae2549f7c",
   "metadata": {},
   "source": [
    "#### Configure your serial connection to your microcontroller. Use the following commands to establish a serial connection.\n",
    "##### Example\n",
    "#### For Windows\n",
    " %serialconnect to --port=COM3 --baud=115200\n",
    "#### For macOS\n",
    " %serialconnect to --port=/dev/tty.SLAB_USBtoUART --baud=115200"
   ]
  },
  {
   "cell_type": "code",
   "execution_count": null,
   "id": "c5657b05-bb93-42f2-90d0-c9905e958ec0",
   "metadata": {},
   "outputs": [],
   "source": []
  }
 ],
 "metadata": {
  "kernelspec": {
   "display_name": "MicroPython - USB",
   "language": "micropython",
   "name": "micropython"
  },
  "language_info": {
   "codemirror_mode": "python",
   "file_extension": ".py",
   "mimetype": "text/python",
   "name": "micropython"
  }
 },
 "nbformat": 4,
 "nbformat_minor": 5
}
