{
 "cells": [
  {
   "cell_type": "markdown",
   "id": "6d77eac8-5033-43f4-a631-f6b13f08fbb2",
   "metadata": {},
   "source": [
    "# Week 11: Tasks"
   ]
  },
  {
   "cell_type": "markdown",
   "id": "ff23bff8-e856-458c-8b53-66fae2549f7c",
   "metadata": {},
   "source": [
    "#### Configure your serial connection to your microcontroller. Use the following commands to establish a serial connection.\n",
    "##### Example\n",
    "#### For Windows\n",
    " %serialconnect to --port=COM3 --baud=115200\n",
    "#### For macOS\n",
    " %serialconnect to --port=/dev/tty.SLAB_USBtoUART --baud=115200"
   ]
  },
  {
   "cell_type": "code",
   "execution_count": null,
   "id": "c5657b05-bb93-42f2-90d0-c9905e958ec0",
   "metadata": {},
   "outputs": [],
   "source": []
  },
  {
   "cell_type": "markdown",
   "id": "435006f0-103b-4128-b3c9-c98bfcb57b76",
   "metadata": {},
   "source": [
    "## Task 1:\n",
    "###### DHT Sensor (Temperature and Humidity Sensor)\n",
    "Read the temperature of the room by using a DHT11 Sensor and display the temperature on the LCD.\n",
    "### GitHub links\n",
    "Use DHT11 library. Pull the library from GitHub  (GITHUB LINK FOR DHT11 LIBRARY)\n",
    "\n",
    "Use the i2C library. Pull the library from GitHub  (GITHUB LINK FOR i2c LIBRARY)\n",
    "\n",
    "Use the i2C library. Pull the library from GitHub  (GITHUB LINK FOR i2c LIBRARY)\n",
    "### Hardware Requirements\n",
    "1. Breadbord\n",
    "2. DHT Sensor.\n",
    "3. LCD\n",
    "4. Pi Pico\n",
    "5. Jumper wires\n"
   ]
  },
  {
   "cell_type": "code",
   "execution_count": null,
   "id": "902cab26-4d0c-4f3a-8857-5076a4fbfafb",
   "metadata": {},
   "outputs": [],
   "source": []
  },
  {
   "cell_type": "markdown",
   "id": "d8d0ba38-ffc3-4f1c-b7e4-6ab36c32a24d",
   "metadata": {},
   "source": [
    "## Task 2:\n",
    "\n",
    "###### Photoresistor (Light Sensor)\n",
    "\n",
    "Use a light sensor to display the room's light sensitivity; display the result on the LCD.\n",
    "\n",
    "Note: Converting the Analog signal to digital values (https://docs.micropython.org/en/latest/esp8266/tutorial/adc.html).\n",
    "### GitHub links\n",
    "Use the i2C library. Pull the library from GitHub  (GITHUB LINK FOR I2C LIBRARY)\n",
    "\n",
    "Use lcd_api library. Pull the library from GitHub  (GITHUB LINK FOR lcd_api LIBRARY)\n",
    "\n",
    "### Hardware Requirements\n",
    "1. Breadbord\n",
    "2. Light Sensor.\n",
    "3. LCD\n",
    "4. Pi Pico\n",
    "5. Jumper wires"
   ]
  },
  {
   "cell_type": "code",
   "execution_count": null,
   "id": "082638e7-bb27-4175-b4b7-1e2c1edcc603",
   "metadata": {},
   "outputs": [],
   "source": []
  },
  {
   "cell_type": "markdown",
   "id": "8affc43a-141f-4144-aa0f-b181eed7de0e",
   "metadata": {},
   "source": [
    "## Task3:\n",
    "###### PIR (Passive Infrared) sensor (motion sensor)\n",
    "Use the PIR sensor to detect movement. If movement is detected, display motion is detected on The LCD; otherwise, no motion is detected. \n",
    "### GitHub links\n",
    "Use the i2C library. Pull the library from GitHub  (GITHUB LINK FOR i2c LIBRARY)\n",
    "\n",
    "Use lcd_api library. Pull the library from GitHub  (GITHUB LINK FOR lcd_api LIBRARY)\n",
    "### Hardware Requirements\n",
    "1. Breadbord\n",
    "2. PIR Sensor.\n",
    "3. LCD\n",
    "4. Pi Pico\n",
    "5. Jumper wires"
   ]
  },
  {
   "cell_type": "code",
   "execution_count": null,
   "id": "8f71bf7b-7493-4f56-91ea-8767ce031a7b",
   "metadata": {},
   "outputs": [],
   "source": []
  }
 ],
 "metadata": {
  "kernelspec": {
   "display_name": "MicroPython - USB",
   "language": "micropython",
   "name": "micropython"
  },
  "language_info": {
   "codemirror_mode": "python",
   "file_extension": ".py",
   "mimetype": "text/python",
   "name": "micropython"
  }
 },
 "nbformat": 4,
 "nbformat_minor": 5
}
