{
 "cells": [
  {
   "cell_type": "markdown",
   "id": "c9b1d9f1-2140-4bb6-9b90-8fa61a653c6a",
   "metadata": {},
   "source": [
    "# Week 15: Practice Assessment\n",
    "## Task 1:\n",
    "### Automated Night Lamp \n",
    "## Scenario\n",
    "You are working on a smart home project where energy efficiency is crucial. One feature of your smart system is to create an automated night lamp that turns on only when it's dark and turns off when there's enough light.\n",
    "### Hardware Requriment\n",
    " 1. Breadbord\n",
    " 2. Light Sensor\n",
    " 3. LED light\n",
    " 4. Pi Pico\n",
    " 5. Jumper wires"
   ]
  }
 ],
 "metadata": {
  "kernelspec": {
   "display_name": "MicroPython - USB",
   "language": "micropython",
   "name": "micropython"
  },
  "language_info": {
   "codemirror_mode": "python",
   "file_extension": ".py",
   "mimetype": "text/python",
   "name": "micropython"
  }
 },
 "nbformat": 4,
 "nbformat_minor": 5
}
