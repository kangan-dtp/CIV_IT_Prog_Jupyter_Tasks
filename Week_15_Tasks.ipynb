{
 "cells": [
  {
   "cell_type": "markdown",
   "id": "c9b1d9f1-2140-4bb6-9b90-8fa61a653c6a",
   "metadata": {},
   "source": [
    "# Week 15: RFID Identification System for Rabbit Shelter Project\n"
   ]
  },
  {
   "cell_type": "markdown",
   "id": "b9641ec1-7ffc-440c-a34c-987adf75c1cc",
   "metadata": {},
   "source": [
    "### Project Tasks\n",
    "**1. RFID Login Access**\n",
    "\n",
    "    • Each user (e.g., shelter staff or volunteer) must log in using an RFID tag.\n",
    "    • Only registered users can proceed to the next step.\n",
    "    • You must create a MicroPython-based program for the Raspberry Pi Pico to read RFID tags and match them with registered user IDs stored in Supabase.\n",
    "**2. Scan the Rabbit RFID Tag and Log Interaction**\n",
    "\n",
    "    • Once logged in, the user can scan a rabbit’s RFID tag.\n",
    "    • Your system must log the scan event in Supabase, including:\n",
    "        o\tUser ID\n",
    "        o\tRabbit ID\n",
    "        o\tTimestamp\n",
    "    • Scan the rabbit’s RFID tag.\n",
    "    • Prompt the user to select the type of interaction, such as:\n",
    "        o\t🥕 Feeding\n",
    "        o\t🧼 Cleaning\n",
    "        o\t🩺 Health Check\n",
    "        o\t🤗 Social Play\n",
    "    • Log this event in Supabase under the interactions table.\n",
    "    \n",
    "**3. Design a 3D Case**\n",
    "\n",
    "    • Design a functional 3D-printable case to house the RFID reader and microcontroller.\n",
    "    • Include slots or ports for:\n",
    "        o\tRFID reader antenna\n",
    "        o\tUSB/power cable\n",
    "        o\tIndicator LEDs or display (if used)\n",
    "**4. Print & Assemble the Case**\n",
    "\n",
    "    • Use a 3D printer to produce the case.\n",
    "    • Assemble all components neatly inside the printed enclosure.\n",
    "    • Ensure the RFID reader can reliably scan cards while mounted.\n",
    "**5. Create a Web App**\n",
    "\n",
    "    • Connect your web app to Supabase via its API.\n",
    "    • Show:\n",
    "        o\tUsername\n",
    "        o\tRabbit name or ID\n",
    "        o\tInteraction type\n",
    "        o\tDate and time\n",
    "    • Add filter/search by:\n",
    "        o\tDate\n",
    "        o\tUser\n",
    "        o\tRabbit\n",
    "        o\tInteraction type\n",
    "**6. Group Presentation**\n",
    "\n",
    "    • Demonstrate login + rabbit interaction + database entry.\n",
    "    • Show web app with real-time data.\n",
    "    • Explain team roles and what each member worked on.\n",
    "\n",
    "**🧩 Bonus Challenge**\n",
    "\n",
    "    • Allow users to add comments during interaction (e.g., “Rabbit seemed sick”).\n",
    "    • Display rabbit profiles with interaction history on the web app.\n"
   ]
  }
 ],
 "metadata": {
  "kernelspec": {
   "display_name": "MicroPython - USB",
   "language": "micropython",
   "name": "micropython"
  },
  "language_info": {
   "codemirror_mode": "python",
   "file_extension": ".py",
   "mimetype": "text/python",
   "name": "micropython"
  }
 },
 "nbformat": 4,
 "nbformat_minor": 5
}
