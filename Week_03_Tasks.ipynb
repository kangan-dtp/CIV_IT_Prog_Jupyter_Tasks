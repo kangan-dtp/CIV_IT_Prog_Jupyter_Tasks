{
 "cells": [
  {
   "cell_type": "markdown",
   "id": "fddcdfcd-fb80-49ef-ac94-a3e812777734",
   "metadata": {},
   "source": [
    "# Week 3 Tasks - Introduction to Micropython"
   ]
  },
  {
   "cell_type": "markdown",
   "id": "bd2ff5c1-8655-436a-b8e2-26aab426fef3",
   "metadata": {},
   "source": [
    "## Task 1:"
   ]
  },
  {
   "cell_type": "markdown",
   "id": "e03289ce-54b5-4589-b0a5-cd2c39868c4f",
   "metadata": {},
   "source": [
    "Install the Juptyer Notebook on your computer, and make sure you have the micropython kernel installed. \n",
    "You can find the instructions on how to install the microphone kernel [here]( Add a link to the GitHub page)."
   ]
  },
  {
   "cell_type": "markdown",
   "id": "474ed88d-9efd-48fc-87e2-aaa3cbe76621",
   "metadata": {},
   "source": [
    "## Task 2:\n",
    "Turn  on the internal LED of Raspberry Pi Pico"
   ]
  },
  {
   "cell_type": "markdown",
   "id": "a1f9467a",
   "metadata": {},
   "source": [
    "## Task 3: \n",
    "Make the internal LED of Raspberry Pi Pico blink at half second intervals."
   ]
  },
  {
   "cell_type": "markdown",
   "id": "98bd065c",
   "metadata": {},
   "source": [
    "## Task 4:\n",
    "Add two buttons. Use one to turn the internal led on and the othe to turn it off."
   ]
  }
 ],
 "metadata": {
  "kernelspec": {
   "display_name": "MicroPython - USB",
   "language": "micropython",
   "name": "micropython"
  },
  "language_info": {
   "codemirror_mode": "python",
   "file_extension": ".py",
   "mimetype": "text/python",
   "name": "micropython"
  }
 },
 "nbformat": 4,
 "nbformat_minor": 5
}
