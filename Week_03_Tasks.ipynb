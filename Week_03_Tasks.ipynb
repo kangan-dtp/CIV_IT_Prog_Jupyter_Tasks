{
 "cells": [
  {
   "cell_type": "markdown",
   "id": "fddcdfcd-fb80-49ef-ac94-a3e812777734",
   "metadata": {},
   "source": [
    "# Week 3 Tasks - Introduction to Micropython"
   ]
  },
  {
   "cell_type": "markdown",
   "id": "46045650",
   "metadata": {},
   "source": []
  },
  {
   "cell_type": "markdown",
   "id": "bd2ff5c1-8655-436a-b8e2-26aab426fef3",
   "metadata": {},
   "source": [
    "## Task 1:"
   ]
  },
  {
   "cell_type": "markdown",
   "id": "e03289ce-54b5-4589-b0a5-cd2c39868c4f",
   "metadata": {},
   "source": [
    "Install the Juptyer Notebook on your computer, and make sure you have the micropython kernel installed. \n",
    "You can find the instructions on how to install the microphone kernel [here]( Add a link to the GitHub page)."
   ]
  },
  {
   "cell_type": "markdown",
   "id": "474ed88d-9efd-48fc-87e2-aaa3cbe76621",
   "metadata": {},
   "source": [
    "## Task 2:\n",
    "Turn on the internal LED of Raspberry Pi Pico."
   ]
  },
  {
   "cell_type": "code",
   "execution_count": null,
   "id": "33013310-4ff9-489a-82c4-1198c27a57f4",
   "metadata": {},
   "outputs": [],
   "source": []
  },
  {
   "cell_type": "markdown",
   "id": "a1f9467a",
   "metadata": {},
   "source": [
    "## Task 3: \n",
    "Make the internal LED of Raspberry Pi Pico blink at half second intervals."
   ]
  },
  {
   "cell_type": "code",
   "execution_count": null,
   "id": "ebbb9509-b5c8-4ff1-abf5-21ceacf83cae",
   "metadata": {},
   "outputs": [],
   "source": []
  },
  {
   "cell_type": "markdown",
   "id": "98bd065c",
   "metadata": {},
   "source": [
    "## Task 4:\n",
    "Add two buttons. Use one to turn the internal LED on and the other to turn it off.\n",
    "### Hardware Requriment\n",
    " 1. Breadbord\n",
    " 2. Two Buttons\n",
    " 3. Pi Pico\n",
    " 4. Jumper wires "
   ]
  },
  {
   "cell_type": "code",
   "execution_count": null,
   "id": "a6dc0335-3e0d-4518-929f-56a706d53e26",
   "metadata": {},
   "outputs": [],
   "source": []
  }
 ],
 "metadata": {
  "kernelspec": {
   "display_name": "MicroPython - USB",
   "language": "micropython",
   "name": "micropython"
  },
  "language_info": {
   "codemirror_mode": "python",
   "file_extension": ".py",
   "mimetype": "text/python",
   "name": "micropython"
  }
 },
 "nbformat": 4,
 "nbformat_minor": 5
}
