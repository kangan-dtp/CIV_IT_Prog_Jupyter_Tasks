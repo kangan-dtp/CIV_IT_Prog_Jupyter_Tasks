%serialconnect to --port=/dev/tty.usbmodem2101 --baud=115200





from machine import Pin
from utime import sleep

led = Pin("LED", Pin.OUT)


# Task 1
led.on()


# Task 2
while True:
    led.toggle()
    sleep(0.5)



