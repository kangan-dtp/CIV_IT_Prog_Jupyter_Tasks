{
 "cells": [
  {
   "cell_type": "markdown",
   "id": "28aa197f",
   "metadata": {},
   "source": [
    "# Week 5 Tasks "
   ]
  },
  {
   "cell_type": "markdown",
   "id": "f1911d7e-f4ed-4dd7-929c-e5051b5b9a99",
   "metadata": {},
   "source": [
    "### Configure your serial connection to your microcontroller. Use the following commands to establish a serial connection.\n",
    "#### For Windows\n",
    " %serialconnect to --port=COM3 --baud=115200\n",
    "#### For macOS\n",
    " %serialconnect to --port=/dev/tty.SLAB_USBtoUART --baud=115200"
   ]
  },
  {
   "cell_type": "code",
   "execution_count": null,
   "id": "4852257e-ddf1-4e14-b8e3-a964afab3bda",
   "metadata": {},
   "outputs": [],
   "source": []
  },
  {
   "cell_type": "markdown",
   "id": "e7d7f408",
   "metadata": {},
   "source": [
    "## Task 1: Electronic Dice for Classroom Games\n",
    "### Scenario\n",
    "A primary school teacher, Ms. Harper, wants to engage her students in math lessons by introducing games that use dice rolls. However, traditional dice often get lost or cause classroom disruptions. To resolve this, she wants a simple, interactive, visual electronic dice that students can operate by pressing a button. When pressed, the dice should randomly display one of three colours—green, yellow, or red—to represent different number ranges (1-2: green, 3-4: yellow, 5-6: red) and simultaneously print the dice result clearly on a connected console. This helps her keep track of each roll and facilitates a way for students to verify the dice result easily.\n",
    "### Task Objective\n",
    "Create a simple, engaging electronic dice system. When a student presses the button, the system randomly selects a number from 1 to 6. Based on the outcome, one of three LEDs (Green, Yellow, or Red) lights up for two seconds to visually represent the dice roll result:\n",
    "\n",
    "=> Green LED: Numbers 1–2\n",
    "\n",
    "=> Yellow LED: Numbers 3–4\n",
    "\n",
    "=> Red LED: Numbers 5–6\n",
    "### Hardware Requirements:\n",
    "\n",
    "1. Raspberry Pi Pico or ESP32\n",
    "2. Breadboard\n",
    "3. Three LEDs (Green, Yellow, Red)\n",
    "4. Push-button\n",
    "5. Jumper wires\n",
    "\n",
    "#### Resources:\n",
    "https://www.w3schools.com/python/module_random.asp\n",
    "\n",
    "https://www.w3schools.com/python/ref_random_randint.asp.\n"
   ]
  },
  {
   "cell_type": "code",
   "execution_count": null,
   "id": "bad66cf9-ac26-4dce-9ad1-59561613898c",
   "metadata": {},
   "outputs": [],
   "source": []
  },
  {
   "cell_type": "markdown",
   "id": "a7e04897",
   "metadata": {},
   "source": [
    "## Task 2: Water Tank Level Indicator System\n",
    "### Scenario\n",
    "Greenfield Municipality requires a visual representation of the water level in its small-scale reservoir tank. You've been asked to create a simplified IoT prototype using LEDs to indicate the current state of the reservoir, simulating both filling (ascending) and draining (descending) sequences.\n",
    "### Operational Description:\n",
    "A sequence of LEDs represents the water level inside the tower. The LEDs will light sequentially from the bottom to the top, indicating the tank is filling, and then in reverse direction, indicating draining. This visual feedback helps technicians and municipality staff quickly assess tank operations and ensure proper functionality.\n",
    "\n",
    "Additionally, each LED activation status (e.g., \"Filling: LED 1 activated\", \"Draining: LED 4 activated\") should be printed to the serial console for remote monitoring.\n",
    "### Hardware Requriment\n",
    " 1. Breadbord\n",
    " 2. Four LED lights (Preferably different colours for clarity)\n",
    " 3. Pi Pico or ESP32\n",
    " 4. Jumper wires \n",
    "\n",
    "#### Key Requirements: \n",
    "To meet the municipality’s coding standards, you must:\n",
    "\n",
    "1.\tWrite a function that controls the ascending/descending LED logic.\n",
    "2.\tInside this function, use at least one for loop to iterate through your list of LEDs in ascending and descending order.\n",
    "\n"
   ]
  },
  {
   "cell_type": "code",
   "execution_count": null,
   "id": "d27800d0-5de4-42a5-a684-fb736f49d88a",
   "metadata": {},
   "outputs": [],
   "source": []
  },
  {
   "cell_type": "markdown",
   "id": "1664f8d6",
   "metadata": {},
   "source": [
    "## Task 3: Multi-Mode LED Display for Community Events\n",
    "### Scenario\n",
    "The Greenfield Heights Recreation Department wants a multi-purpose LED display to be used at various community events—fairs, holiday gatherings, and educational demos. \n",
    "They’ve already seen a basic LED ladder prototype but now request multiple behaviour patterns (modes) that a user can select:\n",
    "\n",
    "1.\tMode A: Basic Fill & Drain – LEDs turn on from bottom to top, then off from top to bottom.\n",
    "2.\tMode B: Reverse – LEDs turn on from bottom to top, then back down.\n",
    "### Hardware Requriment\n",
    " 1. Breadbord\n",
    " 2. LED lights\n",
    " 3. Button\n",
    " 4. Pi Pico\n",
    " 5. Jumper wires \n"
   ]
  },
  {
   "cell_type": "code",
   "execution_count": null,
   "id": "a5af5c0b-084a-4915-a60b-88f83763c61e",
   "metadata": {},
   "outputs": [],
   "source": []
  }
 ],
 "metadata": {
  "kernelspec": {
   "display_name": "MicroPython - USB",
   "language": "micropython",
   "name": "micropython"
  },
  "language_info": {
   "codemirror_mode": "python",
   "file_extension": ".py",
   "mimetype": "text/python",
   "name": "micropython"
  }
 },
 "nbformat": 4,
 "nbformat_minor": 5
}
