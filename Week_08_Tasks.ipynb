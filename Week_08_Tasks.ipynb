{
 "cells": [
  {
   "cell_type": "markdown",
   "id": "a07dc4f6-d24f-4477-abf3-81eb7084a8c8",
   "metadata": {},
   "source": [
    "# Week 8  Assessment"
   ]
  },
  {
   "cell_type": "markdown",
   "id": "4c7ae2ab-8a40-4ac9-93be-b394bfa800df",
   "metadata": {},
   "source": [
    "#### Configure your serial connection to your microcontroller. Use the following commands to establish a serial connection.\n",
    "##### Example\n",
    "#### For Windows\n",
    " %serialconnect to --port=COM3 --baud=115200\n",
    "#### For macOS\n",
    " %serialconnect to --port=/dev/tty.SLAB_USBtoUART --baud=115200"
   ]
  },
  {
   "cell_type": "code",
   "execution_count": null,
   "id": "b62bb9d7-1897-47ba-a959-ac00424198ef",
   "metadata": {},
   "outputs": [],
   "source": []
  }
 ],
 "metadata": {
  "kernelspec": {
   "display_name": "MicroPython - USB",
   "language": "micropython",
   "name": "micropython"
  },
  "language_info": {
   "codemirror_mode": "python",
   "file_extension": ".py",
   "mimetype": "text/python",
   "name": "micropython"
  }
 },
 "nbformat": 4,
 "nbformat_minor": 5
}
