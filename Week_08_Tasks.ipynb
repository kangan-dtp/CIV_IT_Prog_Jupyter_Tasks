{
 "cells": [
  {
   "cell_type": "markdown",
   "id": "a07dc4f6-d24f-4477-abf3-81eb7084a8c8",
   "metadata": {},
   "source": [
    "# Assessment"
   ]
  }
 ],
 "metadata": {
  "kernelspec": {
   "display_name": "MicroPython - USB",
   "language": "micropython",
   "name": "micropython"
  },
  "language_info": {
   "codemirror_mode": "python",
   "file_extension": ".py",
   "mimetype": "text/python",
   "name": "micropython"
  }
 },
 "nbformat": 4,
 "nbformat_minor": 5
}
