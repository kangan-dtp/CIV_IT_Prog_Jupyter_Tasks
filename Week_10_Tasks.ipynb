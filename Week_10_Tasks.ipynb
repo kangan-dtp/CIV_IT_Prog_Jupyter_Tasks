{
 "cells": [
  {
   "cell_type": "code",
   "execution_count": 6,
   "id": "b2887422-c473-4baa-af05-4dfa4423843c",
   "metadata": {
    "scrolled": true
   },
   "outputs": [
    {
     "name": "stdout",
     "output_type": "stream",
     "text": [
      "\u001b[34mConnecting to --port=COM3 --baud=115200 \u001b[0m\n",
      "\u001b[34mReady.\n",
      "\u001b[0m"
     ]
    }
   ],
   "source": [
    "%serialconnect to --port=COM3 --baud=115200"
   ]
  },
  {
   "cell_type": "markdown",
   "id": "f9a1a5e0-6348-496d-9737-694ced8b7ae9",
   "metadata": {},
   "source": [
    "# Week 10 Tasks"
   ]
  },
  {
   "cell_type": "markdown",
   "id": "f73e002d-62b3-4700-b549-3b97ced36046",
   "metadata": {},
   "source": [
    "## Task 1:\n",
    "###### DHT Sensor (Temperature and Humidity Sensor)\n",
    "Read the temperature of the room by using a DHT11 Sensor and display the temperature on the console.\n",
    "### GitHub link\n",
    "Use DHT11 library. Pull the library from GitHub  (GITHUB LINK FOR DHT11 LIBRARY)\n",
    "### Hardware Requirements\n",
    "1. Breadbord\n",
    "2. DHT Sensor\n",
    "3. Pi Pico\n",
    "4. Jumper wires"
   ]
  },
  {
   "cell_type": "code",
   "execution_count": 7,
   "id": "2e2b81a4-699b-4b6e-9336-3734d06326e4",
   "metadata": {},
   "outputs": [
    {
     "name": "stderr",
     "output_type": "stream",
     "text": [
      "Traceback (most recent call last):\n",
      "  File \"<stdin>\", line 6, in <module>\n",
      "TypeError: 'id' argument required\n"
     ]
    }
   ],
   "source": [
    "from machine import Pin, I2C\n",
    "from time import sleep\n",
    "import dht\n",
    "from i2c_lcd import I2cLcd\n",
    "\n",
    "i2c = I2C(0,scl=Pin(17), sda=Pin(16), freq=500000)\n",
    "I2C_ADDR = 0x27  \n",
    "lcd = I2cLcd(i2c, I2C_ADDR, 2, 16)\n",
    " \n",
    "\n",
    "DHT = dht.DHT11(Pin(15))\n",
    "\n",
    "while True:\n",
    "    DHT.measure()\n",
    "    temperature = DHT.temperature()  \n",
    "    humidity = DHT.humidity()\n",
    "    print('Temperature:', temperature, 'C', 'Humidity:', humidity, '%')\n",
    "    sleep(2) \n",
    "\n",
    "    lcd.move_to(1, 0)\n",
    "    lcd.putstr(f'Temp{temperature}C')\n",
    "    lcd.move_to(1, 1)\n",
    "    lcd.putstr(f' Humidity {humidity}%')\n",
    "    \n"
   ]
  },
  {
   "cell_type": "markdown",
   "id": "e1ebbc46-499a-4e2a-b97d-ebb2ef214888",
   "metadata": {},
   "source": [
    "#### Task 2:\n",
    "###### Photoresistor (Light Sensor)\n",
    "Use a light sensor to display the room's light sensitivity; display the result on the console.\n",
    "\n",
    "Note: Convert the Analog signal to digital values(https://docs.micropython.org/en/latest/esp8266/tutorial/adc.html). \n",
    "### Hardware Requirements\n",
    "1. Breadbord\n",
    "2. Light Sensor\n",
    "3. Pi Pico\n",
    "4. Jumper wires"
   ]
  },
  {
   "cell_type": "code",
   "execution_count": null,
   "id": "9e57c973-687f-48e8-81dd-30fba8edfd6f",
   "metadata": {},
   "outputs": [],
   "source": []
  },
  {
   "cell_type": "markdown",
   "id": "60f9058e-ef05-41c7-8764-1694db692f1d",
   "metadata": {},
   "source": [
    "## Task3:\n",
    "###### PIR (Passive Infrared) sensor (motion sensor)\n",
    "\n",
    "Use the PIR sensor to detect movement. If movement is detected, display motion is detected on the console; otherwise, no motion is detected. \n",
    "### Hardware Requirements\n",
    "1. Breadbord\n",
    "2. PIR Sensor\n",
    "3. Pi Pico\n",
    "4. Jumper wires"
   ]
  }
 ],
 "metadata": {
  "kernelspec": {
   "display_name": "MicroPython - USB",
   "language": "micropython",
   "name": "micropython"
  },
  "language_info": {
   "codemirror_mode": "python",
   "file_extension": ".py",
   "mimetype": "text/python",
   "name": "micropython"
  }
 },
 "nbformat": 4,
 "nbformat_minor": 5
}
