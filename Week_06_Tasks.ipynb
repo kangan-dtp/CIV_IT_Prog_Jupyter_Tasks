{
 "cells": [
  {
   "cell_type": "markdown",
   "id": "c038db55-2b5b-4c02-8435-fba4d1b7135c",
   "metadata": {},
   "source": [
    "# Week 6 Tasks"
   ]
  },
  {
   "cell_type": "markdown",
   "id": "702ead4a",
   "metadata": {},
   "source": [
    "## Task 1: LED Signal Control System\n",
    "You are designing a factory alert system that uses four LEDs to represent different statuses:\n",
    "\n",
    "1. Red LED: Emergency\n",
    "    It blinks slowly for  5 seconds to signal an emergency stop.\n",
    "2. Green LED: Operation Normal\n",
    "    Blinks slowly for  5 seconds to indicate normal operation.\n",
    "3. Blue LED: System Cooling\n",
    "    Blinks slowly 5 times (0.5 seconds on, 0.5 seconds off) to show the active cooling system.\n",
    "4. Yellow LED: Maintenance Required\n",
    "    Blinks quickly 5 times (0.5 seconds on, 0.5 seconds off) to signal a maintenance alert.\n",
    "The LEDs should activate in sequence and repeat continuously.\n",
    "### Code Requirements\n",
    "1. Use of Lists:\n",
    "\n",
    "    -> Store the GPIO pins and LED colour names in lists for better organisation.\n",
    "\n",
    "2. Functions:\n",
    "\n",
    "    -> Create a reusable function for blinking an LED a specified number of times with a specified delay.\n",
    "3. Loops:\n",
    "\n",
    "    -> Use loops to:\n",
    "\n",
    "        >> Iterate over the list of LEDs.\n",
    "        >> Blink LEDs as required.\n",
    "\n",
    "### Hardware Requriment\n",
    " 1. Breadbord\n",
    " 2. LED lights( Red, Green, Yellow and Blue)\n",
    " 3. Pi Pico\n",
    " 4. Jumper wires\n"
   ]
  },
  {
   "cell_type": "code",
   "execution_count": null,
   "id": "0b6d1df7-d4f8-4841-a36c-08d74e21ba7e",
   "metadata": {},
   "outputs": [],
   "source": []
  }
 ],
 "metadata": {
  "kernelspec": {
   "display_name": "MicroPython - USB",
   "language": "micropython",
   "name": "micropython"
  },
  "language_info": {
   "codemirror_mode": "python",
   "file_extension": ".py",
   "mimetype": "text/python",
   "name": "micropython"
  }
 },
 "nbformat": 4,
 "nbformat_minor": 5
}
